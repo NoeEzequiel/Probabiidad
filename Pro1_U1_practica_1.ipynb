{
  "nbformat": 4,
  "nbformat_minor": 0,
  "metadata": {
    "colab": {
      "provenance": [],
      "authorship_tag": "ABX9TyOWN06DusR7/S+osL8WLwRu",
      "include_colab_link": true
    },
    "kernelspec": {
      "name": "python3",
      "display_name": "Python 3"
    },
    "language_info": {
      "name": "python"
    }
  },
  "cells": [
    {
      "cell_type": "markdown",
      "metadata": {
        "id": "view-in-github",
        "colab_type": "text"
      },
      "source": [
        "<a href=\"https://colab.research.google.com/github/NoeEzequiel/Probabiidad/blob/main/Pro1_U1_practica_1.ipynb\" target=\"_parent\"><img src=\"https://colab.research.google.com/assets/colab-badge.svg\" alt=\"Open In Colab\"/></a>"
      ]
    },
    {
      "cell_type": "markdown",
      "source": [
        "#Probabilidad y Estadistica\n",
        "### Facilitado: Jose Gabriel Rodriguez Rivas\n",
        "### Nombre del estudiante: Noe Ezequiel Rodriguez Dominguez"
      ],
      "metadata": {
        "id": "HFZ9jTunBQd-"
      }
    },
    {
      "cell_type": "code",
      "source": [
        "from statistics import*"
      ],
      "metadata": {
        "id": "zbHy6Oay78tz"
      },
      "execution_count": null,
      "outputs": []
    },
    {
      "cell_type": "code",
      "execution_count": null,
      "metadata": {
        "colab": {
          "base_uri": "https://localhost:8080/"
        },
        "id": "uGuCFecj5xyH",
        "outputId": "4be2431a-d637-48b9-eb98-13cb0e3647e9"
      },
      "outputs": [
        {
          "output_type": "stream",
          "name": "stdout",
          "text": [
            "[15.1, 17.2, 14.69, 13.27, 22.15, 18.71, 19.15, 20.65, 15.1, 17.2]\n"
          ]
        }
      ],
      "source": [
        "tiempos100mts = [15.10, 17.20, 14.69, 13.27, 22.15, 18.71, 19.15, 20.65, 15.10, 17.20]\n",
        "print(tiempos100mts)"
      ]
    },
    {
      "cell_type": "code",
      "source": [
        "print(\"eltiempo promedio de los coredores es=>\", mean(tiempos100mts) )"
      ],
      "metadata": {
        "colab": {
          "base_uri": "https://localhost:8080/"
        },
        "id": "bPmlqx1b6V7z",
        "outputId": "e6ed7d41-cc49-49cb-d819-c1be8286af50"
      },
      "execution_count": null,
      "outputs": [
        {
          "output_type": "stream",
          "name": "stdout",
          "text": [
            "eltiempo promedio de los coredores es=> 17.322\n"
          ]
        }
      ]
    },
    {
      "cell_type": "code",
      "source": [
        "mediana = median(tiempos100mts)\n",
        "print(\"la mediana de los tiempos corredores es=>\", mediana )"
      ],
      "metadata": {
        "colab": {
          "base_uri": "https://localhost:8080/"
        },
        "id": "p72B2EDU65eP",
        "outputId": "c26c2d8c-b0a7-4f8e-c89b-69c53027f083"
      },
      "execution_count": null,
      "outputs": [
        {
          "output_type": "stream",
          "name": "stdout",
          "text": [
            "la mediana de los tiempos corredores es=> 17.2\n"
          ]
        }
      ]
    },
    {
      "cell_type": "code",
      "source": [
        "moda = mode(tiempos100mts)\n",
        "print(\"la moda de los tiempos es=>\", moda)"
      ],
      "metadata": {
        "colab": {
          "base_uri": "https://localhost:8080/"
        },
        "id": "SHww9vm08c9b",
        "outputId": "a8a9d2b1-b376-4b97-c6b8-facbe5b4d7e0"
      },
      "execution_count": null,
      "outputs": [
        {
          "output_type": "stream",
          "name": "stdout",
          "text": [
            "la moda de los tiempos es=> 15.1\n"
          ]
        }
      ]
    },
    {
      "cell_type": "code",
      "source": [
        "multimoda = multimode(tiempos100mts)\n",
        "print(\"las modas multiples de los tiempos es=>\", multimoda)"
      ],
      "metadata": {
        "colab": {
          "base_uri": "https://localhost:8080/"
        },
        "id": "67wpib_r9xTe",
        "outputId": "4e9e0be3-5da4-439b-838f-c07d29fe589c"
      },
      "execution_count": null,
      "outputs": [
        {
          "output_type": "stream",
          "name": "stdout",
          "text": [
            "las modas multiples de los tiempos es=> [15.1, 17.2]\n"
          ]
        }
      ]
    }
  ]
}